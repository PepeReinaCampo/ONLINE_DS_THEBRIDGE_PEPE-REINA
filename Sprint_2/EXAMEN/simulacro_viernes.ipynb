{
 "cells": [
  {
   "attachments": {},
   "cell_type": "markdown",
   "metadata": {},
   "source": [
    "# Simulacro Rampup"
   ]
  },
  {
   "cell_type": "code",
   "execution_count": 2,
   "metadata": {},
   "outputs": [],
   "source": [
    "# Escribe tu nombre y apellidos (apellido si solo tienes uno) en las variables:\n",
    "nombre = \"José Alonso \"\n",
    "apellidos = \"Reina Campo\""
   ]
  },
  {
   "cell_type": "code",
   "execution_count": 3,
   "metadata": {},
   "outputs": [
    {
     "name": "stdout",
     "output_type": "stream",
     "text": [
      "Bienvenido José Alonso  Reina Campo. Mucha suerte!\n"
     ]
    }
   ],
   "source": [
    "# Solo ejecutar\n",
    "nombre_apellidos = nombre + ' ' + apellidos\n",
    "print(\"Bienvenido\", nombre_apellidos + '. Mucha suerte!')"
   ]
  },
  {
   "cell_type": "markdown",
   "metadata": {},
   "source": [
    "### Ejercicio 1: Calculadoras (3 puntos)\n"
   ]
  },
  {
   "cell_type": "markdown",
   "metadata": {},
   "source": [
    "Construye un programa que:\n",
    "\n",
    "- Salude al usuario por su nombre\n",
    "- Le pregunte si quiere sumar, restar, multiplicar o dividir\n",
    "- Pida que introduzca 2 números de manera sucesiva\n",
    "- Devuelva el resultado de manera formal con un mensaje apropiado \n",
    "\n",
    "**Ayuda**: No se puede dividir por 0"
   ]
  },
  {
   "cell_type": "code",
   "execution_count": 4,
   "metadata": {},
   "outputs": [
    {
     "name": "stdout",
     "output_type": "stream",
     "text": [
      "TU SOLUCION ES: 50.0\n"
     ]
    }
   ],
   "source": [
    "opciones = [\"sumar\", \"restar\", \"multiplicar\", \"dividir\", \"suma\", \"resta\", \"división\", \"multiplicación\", \"add\", \"subtract\", \"multiply\", \"divide\", \"sum\", \"subtraction\", \"division\", \"multiplication\"]\n",
    "tu_nombre = input(\"¿Cómo te llamas? \")\n",
    "operacion = input(\"Hola \" + tu_nombre + \", ¿Qué desea que haga: sumar, restar, multiplicar o dividir? \")\n",
    "operacion = operacion.lower()\n",
    "\n",
    "while operacion not in opciones:\n",
    "    print(\"Opción no válida.\")\n",
    "    operacion = input(\"Hola \" + tu_nombre + \", ¿Qué desea que haga: sumar, restar, multiplicar o dividir? \")\n",
    "    operacion = operacion.lower()\n",
    "    break\n",
    "\n",
    "\n",
    "n1 = input(\"INTRODUZCA SU PRIMER NÚMERO: \")\n",
    "while True:\n",
    "    try:\n",
    "        n1 = float(n1)\n",
    "        break  # Salir del bucle si el número es válido\n",
    "    except ValueError:\n",
    "        print(\"SOLO VALORES NUMÉRICOS\") \n",
    "        n1 = input(\"INTRODUZCA SU PRIMER NÚMERO: \")  \n",
    "\n",
    "n2 = input(\"INTRODUZCA SU SEGUNDO NÚMERO: \")\n",
    "while True:\n",
    "    try:\n",
    "        n2 = float(n2)\n",
    "        if n2== 0:\n",
    "            print(\"0 es un número complicado\")\n",
    "            break\n",
    "        else:\n",
    "            break  # Salir del bucle si el número es válido\n",
    "    except ValueError:\n",
    "        print(\"SOLO VALORES NUMÉRICOS\") \n",
    "        n2 = input(\"INTRODUZCA SU SEGUNDO NÚMERO: \")\n",
    "#en cada operacion podriamos meter los distintos nombres, haciendo lista por ejemplo.\n",
    "\n",
    "if operacion == \"sumar\":\n",
    "    print(\"TU SOLUCION ES:\", n1 + n2)    \n",
    "elif operacion == \"restar\":\n",
    "    print(\"TU SOLUCION ES:\", n1 - n2)    \n",
    "elif operacion == \"multiplicar\":\n",
    "    print(\"TU SOLUCION ES:\", n1 * n2)   \n",
    "elif operacion == \"dividir\":\n",
    "    if n2 == 0:\n",
    "        print(\"NO SE PUEDE DIVIDIR ENTRE 0\")\n",
    "    else:\n",
    "        print(\"TU SOLUCION ES:\", n1 / n2)\n",
    "else:\n",
    "    print(\"Operación no válida\")\n",
    "\n",
    "\n"
   ]
  },
  {
   "cell_type": "markdown",
   "metadata": {},
   "source": [
    "Construye una calculadora que sea como la anterior pero:\n",
    "\n",
    "- Acepte tantos valores de entrada como queramos\n",
    "- Devuelva mensajes con las cuentas que se van haciendo.\n",
    "- Permita salir con una palabra clave (exit, quit, ...)"
   ]
  },
  {
   "cell_type": "code",
   "execution_count": 5,
   "metadata": {},
   "outputs": [
    {
     "name": "stdout",
     "output_type": "stream",
     "text": [
      "Bienvenido a la calculadora. Puedes escribir 'exit' o 'quit' para salir en cualquier momento.\n",
      "¡Hasta luego!\n"
     ]
    }
   ],
   "source": [
    "\"\"\"\n",
    "SOLUCION DE CHAT GTP, NO FUNCIONA BIEN\n",
    "\n",
    "\"\"\"\n",
    "\n",
    "\n",
    "\n",
    "\n",
    "def sumar(*args):\n",
    "    resultado = sum(args)\n",
    "    mensaje = f\"Suma: {' + '.join(map(str, args))} = {resultado}\"\n",
    "    return resultado, mensaje\n",
    "\n",
    "def restar(*args):\n",
    "    resultado = args[0] - sum(args[1:])\n",
    "    mensaje = f\"Resta: {args[0]} - {' - '.join(map(str, args[1:]))} = {resultado}\"\n",
    "    return resultado, mensaje\n",
    "\n",
    "def multiplicar(*args):\n",
    "    resultado = 1\n",
    "    for num in args:\n",
    "        resultado *= num\n",
    "    mensaje = f\"Multiplicación: {' * '.join(map(str, args))} = {resultado}\"\n",
    "    return resultado, mensaje\n",
    "\n",
    "def dividir(*args):\n",
    "    resultado = args[0]\n",
    "    for num in args[1:]:\n",
    "        if num == 0:\n",
    "            return None, \"No se puede dividir entre 0.\"\n",
    "        resultado /= num\n",
    "    mensaje = f\"División: {args[0]} / {' / '.join(map(str, args[1:]))} = {resultado}\"\n",
    "    return resultado, mensaje\n",
    "\n",
    "operaciones = {\n",
    "    \"sumar\": sumar,\n",
    "    \"restar\": restar,\n",
    "    \"multiplicar\": multiplicar,\n",
    "    \"dividir\": dividir,\n",
    "    \"exit\": None,\n",
    "    \"quit\": None,\n",
    "}\n",
    "\n",
    "print(\"Bienvenido a la calculadora. Puedes escribir 'exit' o 'quit' para salir en cualquier momento.\")\n",
    "\n",
    "while True:\n",
    "    operacion = input(\"Ingrese la operación que desea realizar (sumar, restar, multiplicar, dividir): \").lower()\n",
    "    if operacion in operaciones:\n",
    "        if operacion in [\"exit\", \"quit\"]:\n",
    "            print(\"¡Hasta luego!\")\n",
    "            break\n",
    "        else:\n",
    "            try:\n",
    "                valores = input(\"Ingrese los valores separados por espacios: \").split()\n",
    "                valores = [float(valor) for valor in valores]\n",
    "                resultado, mensaje = operaciones[operacion](*valores)\n",
    "                if resultado is not None:\n",
    "                    print(mensaje)\n",
    "                else:\n",
    "                    print(\"Error:\", mensaje)\n",
    "            except ValueError:\n",
    "                print(\"Por favor, ingrese valores numéricos válidos.\")\n",
    "    else:\n",
    "        print(\"Operación no válida. Por favor, elija una operación válida.\")\n"
   ]
  },
  {
   "cell_type": "markdown",
   "metadata": {},
   "source": [
    "### Ejercicio 2 (4 puntos)\n",
    "\n",
    "Escribe un programa que trabaje con 3 listas:\n",
    "\n",
    "La lista ***grupo_musical*** contiene strings.\n",
    "\n",
    "La lista ***generos*** contiene strings.\n",
    "\n",
    "La lista ***anios*** puede contener un entero o tuplas.\n",
    "\n",
    "Ejemplo de datos:\n",
    "\n",
    ">\"ABBA\"\n",
    ">\n",
    ">\"pop\"\n",
    ">\n",
    ">(1972, 1982)\n",
    "\n",
    "Otro ejemplo:\n",
    "\n",
    ">\"Madonna\"\n",
    ">\n",
    ">\"pop\"\n",
    ">\n",
    ">1983\n",
    "\n",
    "Otro ejemplo:\n",
    "\n",
    ">\"Kölsch\"\n",
    ">\n",
    ">\"electronica\"\n",
    ">\n",
    ">1995\n",
    "\n",
    "Un grupo musical solo puede tener un género musical.\n",
    "Un grupo musical debe tener como mínimo un año de formación, que es un entero.\n",
    "Un grupo musical, si tuviese año de disolución, la información se guardaría en una tupla.\n",
    "\n",
    "Se pide implementar:\n",
    "\n",
    "a. Una función llamada *inserta* que acepte 4 parámetros (grupo, genero, comienzo, fin). El fin por defecto debe ser un objeto nulo. El grupo se inserta en la lista de grupos. El genero se inserta en la lista de géneros. El comienzo o comienzo y fin se inserta en la lista de años. La función no tiene valor retornado.\n",
    "\n",
    "b. Una función *busca_genero* con un parámetro de tipo string (genero) y devuelve una lista con todos los grupos de ese género.\n",
    "\n",
    "c. Una función *busca_grupos* con un parámetro booleano llamado *activos* con un valor por defecto verdadero. Cuando el valor es verdadero, devuelve solo los grupos activos en una lista. Cuando *activos* es falso, devuelve todos los grupos disueltos en una lista.\n",
    "\n",
    "d. Una función *busca_genero_indice* con un parámetro de tipo string (genero) que devuelve una lista con los índices donde se encuentra ese género.\n",
    "\n",
    "e. Una función *filtra_listas_genero* con un parámetro de tipo string (genero) que devuelve una tupla con las 3 listas filtradas y ***llame*** a busca_genero_indice\n",
    "\n",
    "f. Una función *anios_activos* que no tenga parámetros de entrada ni valor retornado que imprima línea a línea la información: grupo musical ---> años activos. Es decir: \n",
    "\n",
    ">ABBA ---> 10 años activos\n",
    ">\n",
    ">Madonna --> 40 años activos\n",
    ">\n",
    ">Kölsch --> 25 años activos\n",
    "\n",
    "\n",
    "Nota: si no te sale un apartado después de un tiempo prudencial, ¡pasa al siguiente!"
   ]
  },
  {
   "cell_type": "code",
   "execution_count": null,
   "metadata": {},
   "outputs": [],
   "source": []
  },
  {
   "attachments": {},
   "cell_type": "markdown",
   "metadata": {},
   "source": [
    "### Ejercicio 3 (3 puntos)\n",
    "\n",
    "#### Crear un programa que calcule la cuota de una hipoteca\n",
    "\n",
    "Las cuotas hipotecarias se calculan utilizando la fórmula del interés francés. \n",
    "\n",
    "La fórmula del interés francés es la siguiente:\n",
    "\\begin{align*}\n",
    "C=V \\frac{(1+i)^n i}{(1+i)^n -1}\n",
    "\\end{align*}\n",
    "\n",
    "\n",
    "    C = cuota a pagar (mensual)\n",
    "    V = volumen del préstamo hipotecario\n",
    "    i = tipo de interés del período (mensual)\n",
    "    n = número de cuotas (mensuales)\n",
    "\n"
   ]
  },
  {
   "attachments": {},
   "cell_type": "markdown",
   "metadata": {},
   "source": [
    "1. Crea un programa que solicite al usuario los datos de su hipoteca mediante input() los datos (volumen, interés **anual**, y plazo en **años**) y le devuelva la cuota **mensual** a pagar. No es necesario encapsularlo en funciones. (0.4)"
   ]
  },
  {
   "cell_type": "code",
   "execution_count": 7,
   "metadata": {},
   "outputs": [
    {
     "name": "stdout",
     "output_type": "stream",
     "text": [
      "7.093188131768976e+21 ESA ES SU CUOTA A PAGAR\n"
     ]
    }
   ],
   "source": [
    "v= input(\"INTRODUZCA VALOR VOLUMEN HIPOTECA\")\n",
    "i= input(\"INTRODUZCA TIPO DE INTERES\")\n",
    "n= input(\"INTRODUZCA número DE CUOTAS\")\n",
    "v= float(v)\n",
    "i= float(i)\n",
    "n= float(n)\n",
    "print((((1+i)**(n*i))/(((1+i)**n)-1))*v, \"ESA ES SU CUOTA A PAGAR\")\n",
    "#habría que hacer la correcion de inputs, de va"
   ]
  },
  {
   "cell_type": "code",
   "execution_count": null,
   "metadata": {},
   "outputs": [],
   "source": []
  },
  {
   "attachments": {},
   "cell_type": "markdown",
   "metadata": {},
   "source": [
    "2. Crea una función `calcular_hip` que realiza el cálculo y cuyos argumentos de entrada sean `volumen`, `interes_anual` y `años`, devolviendo la couta mensual(float). El argumento de `años` deberá de tener un valor por defecto de 30. Documenta la función con el estilo de Google.  (0.4)"
   ]
  },
  {
   "cell_type": "code",
   "execution_count": null,
   "metadata": {},
   "outputs": [],
   "source": []
  },
  {
   "attachments": {},
   "cell_type": "markdown",
   "metadata": {},
   "source": [
    "3. Calcula la cuota y guárdala en la variable `res_cuota` si la cantidad de la hipoteca son 350000 euros, el interés anual es del 5% y la quiere pagar en 20 años a partir de la función `calcular_hip`. (0.4)\n",
    "\n"
   ]
  },
  {
   "cell_type": "code",
   "execution_count": null,
   "metadata": {},
   "outputs": [],
   "source": []
  },
  {
   "attachments": {},
   "cell_type": "markdown",
   "metadata": {},
   "source": [
    "4. Crea una función `gasto_vivienda`, con dos argumentos de entrada `ingreso` y `lista_hip`. Esta lista tendrá los 3 valores de los argumentos de entrada de `calcular_hip`, llamando a esta función desde dentro de `gasto_vivienda`. Tiene que devolver el valor del porcentaje de gasto en la hipoteca respecto a los ingresos. (Entre 0 y 1, es decir 0.5 si es del 50%) Documenta la función. (0.4)"
   ]
  },
  {
   "cell_type": "code",
   "execution_count": null,
   "metadata": {},
   "outputs": [],
   "source": []
  },
  {
   "attachments": {},
   "cell_type": "markdown",
   "metadata": {},
   "source": [
    "5. Calcula el porcentaje de gasto en la hipoteca si el ingreso es de 1700 euros y guárdalo en la variable `res_porcentaje` a partir de la función `gasto_vivienda`. (0.4)\n"
   ]
  },
  {
   "cell_type": "code",
   "execution_count": null,
   "metadata": {},
   "outputs": [],
   "source": []
  }
 ],
 "metadata": {
  "kernelspec": {
   "display_name": "Python 3 (ipykernel)",
   "language": "python",
   "name": "python3"
  },
  "language_info": {
   "codemirror_mode": {
    "name": "ipython",
    "version": 3
   },
   "file_extension": ".py",
   "mimetype": "text/x-python",
   "name": "python",
   "nbconvert_exporter": "python",
   "pygments_lexer": "ipython3",
   "version": "3.10.11"
  },
  "vscode": {
   "interpreter": {
    "hash": "90139cb9a825bf3d63f6f6704e828dbd1ff7edbd4d0c6e906a71235d6efc74af"
   }
  }
 },
 "nbformat": 4,
 "nbformat_minor": 4
}
