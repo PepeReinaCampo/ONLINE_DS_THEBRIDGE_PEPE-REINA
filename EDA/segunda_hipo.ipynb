{
 "cells": [
  {
   "cell_type": "markdown",
   "metadata": {},
   "source": [
    "<div style=\"display: flex; justify-content: center;\">\n",
    "    <img src=\"imagenes/tosti.jpg\" style=\"border-radius: 20px; width: 75%;\">\n",
    "</div>"
   ]
  },
  {
   "cell_type": "markdown",
   "metadata": {},
   "source": [
    "<small> Imagen creada por IA generativa usando el siguiente pront: 'Dibújame un robot (con cabeza de tostadora) pensativo, sentado en una mesa.  \n",
    " El dibujo no debe ser muy recargado, solo el robot y parte de la mesa.'<small>"
   ]
  },
  {
   "cell_type": "code",
   "execution_count": 1,
   "metadata": {},
   "outputs": [],
   "source": [
    "import numpy as np\n",
    "import pandas as pd\n",
    "import matplotlib.pyplot as plt\n",
    "from datetime import datetime\n",
    "import os\n",
    "import seaborn as sns\n",
    "from scipy.stats import ttest_ind \n",
    "from scipy import stats\n",
    "from scipy.stats import f_oneway"
   ]
  },
  {
   "cell_type": "markdown",
   "metadata": {},
   "source": [
    "### La hipótesis a la que en este Jupyter se trata de dar respuesta es que el tiempo que un vehículo pasa en el depósito dependerá del tipo de vehículo."
   ]
  },
  {
   "cell_type": "markdown",
   "metadata": {},
   "source": [
    ">Para ello, lo primero será, obviamente, cargar los dataframes que había creado en el Jupyter 'preparacion_datos_salida.ipynb'."
   ]
  },
  {
   "cell_type": "code",
   "execution_count": 2,
   "metadata": {},
   "outputs": [],
   "source": [
    "df_salidas_todo = pd.read_parquet(r'C:\\Users\\pepea\\Desktop\\the_drige\\EDA\\salidas_validas\\df_salidas_todo')\n",
    "df_salidas_todo.head(5) \n",
    "df_salidas_todo_copia = df_salidas_todo.copy()"
   ]
  },
  {
   "cell_type": "code",
   "execution_count": 3,
   "metadata": {},
   "outputs": [
    {
     "data": {
      "text/html": [
       "<div>\n",
       "<style scoped>\n",
       "    .dataframe tbody tr th:only-of-type {\n",
       "        vertical-align: middle;\n",
       "    }\n",
       "\n",
       "    .dataframe tbody tr th {\n",
       "        vertical-align: top;\n",
       "    }\n",
       "\n",
       "    .dataframe thead th {\n",
       "        text-align: right;\n",
       "    }\n",
       "</style>\n",
       "<table border=\"1\" class=\"dataframe\">\n",
       "  <thead>\n",
       "    <tr style=\"text-align: right;\">\n",
       "      <th></th>\n",
       "      <th>tipoVehiculo</th>\n",
       "      <th>motivo</th>\n",
       "      <th>turno</th>\n",
       "      <th>grua</th>\n",
       "      <th>tipoVia</th>\n",
       "      <th>via</th>\n",
       "      <th>numero</th>\n",
       "      <th>cp</th>\n",
       "      <th>depositoEntrada</th>\n",
       "      <th>fechaEntrada</th>\n",
       "      <th>depositoSalida</th>\n",
       "      <th>fechaSalida</th>\n",
       "      <th>TiempoEnDeposito (dias)</th>\n",
       "    </tr>\n",
       "    <tr>\n",
       "      <th>idVehiculo</th>\n",
       "      <th></th>\n",
       "      <th></th>\n",
       "      <th></th>\n",
       "      <th></th>\n",
       "      <th></th>\n",
       "      <th></th>\n",
       "      <th></th>\n",
       "      <th></th>\n",
       "      <th></th>\n",
       "      <th></th>\n",
       "      <th></th>\n",
       "      <th></th>\n",
       "      <th></th>\n",
       "    </tr>\n",
       "  </thead>\n",
       "  <tbody>\n",
       "    <tr>\n",
       "      <th>M320230302121512</th>\n",
       "      <td>Motocicleta</td>\n",
       "      <td>Sustraído</td>\n",
       "      <td>Mañana</td>\n",
       "      <td>S373</td>\n",
       "      <td>CAMINO</td>\n",
       "      <td>PERALES</td>\n",
       "      <td>173</td>\n",
       "      <td>28053</td>\n",
       "      <td>MEDIODIA 3</td>\n",
       "      <td>2023-03-02 12:00:00</td>\n",
       "      <td>MEDIODIA 3</td>\n",
       "      <td>2023-03-02 19:00:00</td>\n",
       "      <td>0 days 07:00:00</td>\n",
       "    </tr>\n",
       "    <tr>\n",
       "      <th>M320220607093759</th>\n",
       "      <td>Coche</td>\n",
       "      <td>Prohibido Placas</td>\n",
       "      <td>Mañana</td>\n",
       "      <td>S363</td>\n",
       "      <td>CAMINO</td>\n",
       "      <td>PERALES</td>\n",
       "      <td>23</td>\n",
       "      <td>28053</td>\n",
       "      <td>MEDIODIA 3</td>\n",
       "      <td>2022-06-07 09:36:00</td>\n",
       "      <td>MEDIODIA 3</td>\n",
       "      <td>2023-01-25 17:35:00</td>\n",
       "      <td>232 days 07:59:00</td>\n",
       "    </tr>\n",
       "    <tr>\n",
       "      <th>M320220607112625</th>\n",
       "      <td>Coche</td>\n",
       "      <td>Falta de documentación</td>\n",
       "      <td>Mañana</td>\n",
       "      <td>S335</td>\n",
       "      <td>CAMINO</td>\n",
       "      <td>PERALES</td>\n",
       "      <td>0</td>\n",
       "      <td>28053</td>\n",
       "      <td>MEDIODIA 3</td>\n",
       "      <td>2022-06-07 11:25:00</td>\n",
       "      <td>MEDIODIA 3</td>\n",
       "      <td>2023-02-15 10:56:00</td>\n",
       "      <td>252 days 23:31:00</td>\n",
       "    </tr>\n",
       "    <tr>\n",
       "      <th>PI20230202122016</th>\n",
       "      <td>Coche</td>\n",
       "      <td>Prohibido Placas</td>\n",
       "      <td>Mañana</td>\n",
       "      <td>S331</td>\n",
       "      <td>PUERTO</td>\n",
       "      <td>BALBARAN</td>\n",
       "      <td>133</td>\n",
       "      <td>28018</td>\n",
       "      <td>PASEO IMPERIAL</td>\n",
       "      <td>2023-02-02 12:15:00</td>\n",
       "      <td>PASEO IMPERIAL</td>\n",
       "      <td>2023-02-02 17:52:00</td>\n",
       "      <td>0 days 05:37:00</td>\n",
       "    </tr>\n",
       "    <tr>\n",
       "      <th>CO20230916170349</th>\n",
       "      <td>Motocicleta</td>\n",
       "      <td>R Minusválido</td>\n",
       "      <td>Tarde</td>\n",
       "      <td>S367</td>\n",
       "      <td>CAMINO</td>\n",
       "      <td>DE HORTALEZA</td>\n",
       "      <td>0</td>\n",
       "      <td>None</td>\n",
       "      <td>COLON</td>\n",
       "      <td>2023-09-16 17:02:00</td>\n",
       "      <td>COLON</td>\n",
       "      <td>2023-09-21 08:28:00</td>\n",
       "      <td>4 days 15:26:00</td>\n",
       "    </tr>\n",
       "  </tbody>\n",
       "</table>\n",
       "</div>"
      ],
      "text/plain": [
       "                 tipoVehiculo                  motivo   turno  grua tipoVia  \\\n",
       "idVehiculo                                                                    \n",
       "M320230302121512  Motocicleta               Sustraído  Mañana  S373  CAMINO   \n",
       "M320220607093759        Coche        Prohibido Placas  Mañana  S363  CAMINO   \n",
       "M320220607112625        Coche  Falta de documentación  Mañana  S335  CAMINO   \n",
       "PI20230202122016        Coche        Prohibido Placas  Mañana  S331  PUERTO   \n",
       "CO20230916170349  Motocicleta           R Minusválido   Tarde  S367  CAMINO   \n",
       "\n",
       "                           via numero     cp depositoEntrada  \\\n",
       "idVehiculo                                                     \n",
       "M320230302121512       PERALES    173  28053      MEDIODIA 3   \n",
       "M320220607093759       PERALES     23  28053      MEDIODIA 3   \n",
       "M320220607112625       PERALES      0  28053      MEDIODIA 3   \n",
       "PI20230202122016      BALBARAN    133  28018  PASEO IMPERIAL   \n",
       "CO20230916170349  DE HORTALEZA      0   None           COLON   \n",
       "\n",
       "                        fechaEntrada  depositoSalida         fechaSalida  \\\n",
       "idVehiculo                                                                 \n",
       "M320230302121512 2023-03-02 12:00:00      MEDIODIA 3 2023-03-02 19:00:00   \n",
       "M320220607093759 2022-06-07 09:36:00      MEDIODIA 3 2023-01-25 17:35:00   \n",
       "M320220607112625 2022-06-07 11:25:00      MEDIODIA 3 2023-02-15 10:56:00   \n",
       "PI20230202122016 2023-02-02 12:15:00  PASEO IMPERIAL 2023-02-02 17:52:00   \n",
       "CO20230916170349 2023-09-16 17:02:00           COLON 2023-09-21 08:28:00   \n",
       "\n",
       "                 TiempoEnDeposito (dias)  \n",
       "idVehiculo                                \n",
       "M320230302121512         0 days 07:00:00  \n",
       "M320220607093759       232 days 07:59:00  \n",
       "M320220607112625       252 days 23:31:00  \n",
       "PI20230202122016         0 days 05:37:00  \n",
       "CO20230916170349         4 days 15:26:00  "
      ]
     },
     "execution_count": 3,
     "metadata": {},
     "output_type": "execute_result"
    }
   ],
   "source": [
    "df_salidas_todo_copia.tail(5)"
   ]
  },
  {
   "cell_type": "markdown",
   "metadata": {},
   "source": [
    "### También cargaremos los dataframes de cada año, por si en algún momento hacen falta."
   ]
  },
  {
   "cell_type": "code",
   "execution_count": 4,
   "metadata": {},
   "outputs": [
    {
     "name": "stdout",
     "output_type": "stream",
     "text": [
      "#Año 2016\n",
      "df_salidas2016 = pd.read_parquet(r'C:\\Users\\pepea\\Desktop\\the_drige\\EDA\\salidas_validas\\salidas2016_util.parquet')\n",
      "\n",
      "#Año 2017\n",
      "df_salidas2017 = pd.read_parquet(r'C:\\Users\\pepea\\Desktop\\the_drige\\EDA\\salidas_validas\\salidas2017_util.parquet')\n",
      "\n",
      "#Año 2018\n",
      "df_salidas2018 = pd.read_parquet(r'C:\\Users\\pepea\\Desktop\\the_drige\\EDA\\salidas_validas\\salidas2018_util.parquet')\n",
      "\n",
      "#Año 2019\n",
      "df_salidas2019 = pd.read_parquet(r'C:\\Users\\pepea\\Desktop\\the_drige\\EDA\\salidas_validas\\salidas2019_util.parquet')\n",
      "\n",
      "#Año 2020\n",
      "df_salidas2020 = pd.read_parquet(r'C:\\Users\\pepea\\Desktop\\the_drige\\EDA\\salidas_validas\\salidas2020_util.parquet')\n",
      "\n",
      "#Año 2021\n",
      "df_salidas2021 = pd.read_parquet(r'C:\\Users\\pepea\\Desktop\\the_drige\\EDA\\salidas_validas\\salidas2021_util.parquet')\n",
      "\n",
      "#Año 2022\n",
      "df_salidas2022 = pd.read_parquet(r'C:\\Users\\pepea\\Desktop\\the_drige\\EDA\\salidas_validas\\salidas2022_util.parquet')\n",
      "\n",
      "#Año 2023\n",
      "df_salidas2023 = pd.read_parquet(r'C:\\Users\\pepea\\Desktop\\the_drige\\EDA\\salidas_validas\\salidas2023_util.parquet')\n",
      "\n"
     ]
    }
   ],
   "source": [
    "años = ['2016', '2017', '2018', '2019', '2020', '2021', '2022', '2023']\n",
    "for año in años:\n",
    "    print(f\"#Año {año}\")\n",
    "    print(f\"df_salidas{año} = pd.read_parquet(r'C:\\\\Users\\\\pepea\\\\Desktop\\\\the_drige\\\\EDA\\\\salidas_validas\\\\salidas{año}_util.parquet')\")\n",
    "    print()"
   ]
  },
  {
   "cell_type": "code",
   "execution_count": 5,
   "metadata": {},
   "outputs": [],
   "source": [
    "#Año 2016\n",
    "df_salidas2016 = pd.read_parquet(r'C:\\Users\\pepea\\Desktop\\the_drige\\EDA\\salidas_validas\\salidas2016_util.parquet')\n",
    "\n",
    "#Año 2017\n",
    "df_salidas2017 = pd.read_parquet(r'C:\\Users\\pepea\\Desktop\\the_drige\\EDA\\salidas_validas\\salidas2017_util.parquet')\n",
    "\n",
    "#Año 2018\n",
    "df_salidas2018 = pd.read_parquet(r'C:\\Users\\pepea\\Desktop\\the_drige\\EDA\\salidas_validas\\salidas2018_util.parquet')\n",
    "\n",
    "#Año 2019\n",
    "df_salidas2019 = pd.read_parquet(r'C:\\Users\\pepea\\Desktop\\the_drige\\EDA\\salidas_validas\\salidas2019_util.parquet')\n",
    "\n",
    "#Año 2020\n",
    "df_salidas2020 = pd.read_parquet(r'C:\\Users\\pepea\\Desktop\\the_drige\\EDA\\salidas_validas\\salidas2020_util.parquet')\n",
    "\n",
    "#Año 2021\n",
    "df_salidas2021 = pd.read_parquet(r'C:\\Users\\pepea\\Desktop\\the_drige\\EDA\\salidas_validas\\salidas2021_util.parquet')\n",
    "\n",
    "#Año 2022\n",
    "df_salidas2022 = pd.read_parquet(r'C:\\Users\\pepea\\Desktop\\the_drige\\EDA\\salidas_validas\\salidas2022_util.parquet')\n",
    "\n",
    "#Año 2023\n",
    "df_salidas2023 = pd.read_parquet(r'C:\\Users\\pepea\\Desktop\\the_drige\\EDA\\salidas_validas\\salidas2023_util.parquet')"
   ]
  },
  {
   "cell_type": "markdown",
   "metadata": {},
   "source": [
    "Ya los tenemos cargados. Lo primero que haremos es volcar la media de estancia en una variable."
   ]
  },
  {
   "cell_type": "code",
   "execution_count": 6,
   "metadata": {},
   "outputs": [
    {
     "name": "stdout",
     "output_type": "stream",
     "text": [
      "Media de tiempo en el depósito: 30 days 09:02:01.225065612\n"
     ]
    }
   ],
   "source": [
    "media_tiempo = df_salidas_todo_copia['TiempoEnDeposito (dias)'].mean()\n",
    "\n",
    "print(\"Media de tiempo en el depósito:\", media_tiempo)\n"
   ]
  },
  {
   "cell_type": "markdown",
   "metadata": {},
   "source": [
    "### Prepararemos una tabla con el tiempo medio que pasa cada tipo de vehículo en el depósito, para poder generar una figura con facilidad."
   ]
  },
  {
   "cell_type": "code",
   "execution_count": 7,
   "metadata": {},
   "outputs": [
    {
     "data": {
      "text/html": [
       "<div>\n",
       "<style scoped>\n",
       "    .dataframe tbody tr th:only-of-type {\n",
       "        vertical-align: middle;\n",
       "    }\n",
       "\n",
       "    .dataframe tbody tr th {\n",
       "        vertical-align: top;\n",
       "    }\n",
       "\n",
       "    .dataframe thead th {\n",
       "        text-align: right;\n",
       "    }\n",
       "</style>\n",
       "<table border=\"1\" class=\"dataframe\">\n",
       "  <thead>\n",
       "    <tr style=\"text-align: right;\">\n",
       "      <th></th>\n",
       "      <th>Tiempo medio en deposito</th>\n",
       "    </tr>\n",
       "    <tr>\n",
       "      <th>tipoVehiculo</th>\n",
       "      <th></th>\n",
       "    </tr>\n",
       "  </thead>\n",
       "  <tbody>\n",
       "    <tr>\n",
       "      <th>Bicicletas</th>\n",
       "      <td>127 days 06:37:01.208053692</td>\n",
       "    </tr>\n",
       "    <tr>\n",
       "      <th>Camión</th>\n",
       "      <td>41 days 16:54:14.488391439</td>\n",
       "    </tr>\n",
       "    <tr>\n",
       "      <th>Coche</th>\n",
       "      <td>27 days 02:15:50.025927042</td>\n",
       "    </tr>\n",
       "    <tr>\n",
       "      <th>Motocarro</th>\n",
       "      <td>26 days 17:06:51.864406779</td>\n",
       "    </tr>\n",
       "    <tr>\n",
       "      <th>Motocicleta</th>\n",
       "      <td>45 days 09:37:45.642012813</td>\n",
       "    </tr>\n",
       "    <tr>\n",
       "      <th>Patinetes (VMP)</th>\n",
       "      <td>22 days 21:12:52.217756668</td>\n",
       "    </tr>\n",
       "    <tr>\n",
       "      <th>Remolque</th>\n",
       "      <td>62 days 13:03:06.976744186</td>\n",
       "    </tr>\n",
       "    <tr>\n",
       "      <th>Vehículo pesado</th>\n",
       "      <td>24 days 09:02:32.093023255</td>\n",
       "    </tr>\n",
       "  </tbody>\n",
       "</table>\n",
       "</div>"
      ],
      "text/plain": [
       "                   Tiempo medio en deposito\n",
       "tipoVehiculo                               \n",
       "Bicicletas      127 days 06:37:01.208053692\n",
       "Camión           41 days 16:54:14.488391439\n",
       "Coche            27 days 02:15:50.025927042\n",
       "Motocarro        26 days 17:06:51.864406779\n",
       "Motocicleta      45 days 09:37:45.642012813\n",
       "Patinetes (VMP)  22 days 21:12:52.217756668\n",
       "Remolque         62 days 13:03:06.976744186\n",
       "Vehículo pesado  24 days 09:02:32.093023255"
      ]
     },
     "execution_count": 7,
     "metadata": {},
     "output_type": "execute_result"
    }
   ],
   "source": [
    "df_media_tiempo = df_salidas_todo_copia.groupby('tipoVehiculo')['TiempoEnDeposito (dias)'].mean().reset_index()\n",
    "df_media_tiempo = df_media_tiempo.reset_index(drop=True).set_index('tipoVehiculo')\n",
    "df_media_tiempo = df_media_tiempo.rename(columns={'TiempoEnDeposito (dias)': 'Tiempo medio en deposito'})\n",
    "\n",
    "df_media_tiempo"
   ]
  },
  {
   "cell_type": "code",
   "execution_count": 8,
   "metadata": {},
   "outputs": [
    {
     "data": {
      "text/html": [
       "<div>\n",
       "<style scoped>\n",
       "    .dataframe tbody tr th:only-of-type {\n",
       "        vertical-align: middle;\n",
       "    }\n",
       "\n",
       "    .dataframe tbody tr th {\n",
       "        vertical-align: top;\n",
       "    }\n",
       "\n",
       "    .dataframe thead th {\n",
       "        text-align: right;\n",
       "    }\n",
       "</style>\n",
       "<table border=\"1\" class=\"dataframe\">\n",
       "  <thead>\n",
       "    <tr style=\"text-align: right;\">\n",
       "      <th></th>\n",
       "      <th>Tiempo medio en deposito</th>\n",
       "      <th>Tiempo medio en deposito (float)</th>\n",
       "    </tr>\n",
       "    <tr>\n",
       "      <th>tipoVehiculo</th>\n",
       "      <th></th>\n",
       "      <th></th>\n",
       "    </tr>\n",
       "  </thead>\n",
       "  <tbody>\n",
       "    <tr>\n",
       "      <th>Bicicletas</th>\n",
       "      <td>127 days 06:37:01.208053692</td>\n",
       "      <td>127.275706</td>\n",
       "    </tr>\n",
       "    <tr>\n",
       "      <th>Camión</th>\n",
       "      <td>41 days 16:54:14.488391439</td>\n",
       "      <td>41.704329</td>\n",
       "    </tr>\n",
       "    <tr>\n",
       "      <th>Coche</th>\n",
       "      <td>27 days 02:15:50.025927042</td>\n",
       "      <td>27.094329</td>\n",
       "    </tr>\n",
       "    <tr>\n",
       "      <th>Motocarro</th>\n",
       "      <td>26 days 17:06:51.864406779</td>\n",
       "      <td>26.713090</td>\n",
       "    </tr>\n",
       "    <tr>\n",
       "      <th>Motocicleta</th>\n",
       "      <td>45 days 09:37:45.642012813</td>\n",
       "      <td>45.401215</td>\n",
       "    </tr>\n",
       "    <tr>\n",
       "      <th>Patinetes (VMP)</th>\n",
       "      <td>22 days 21:12:52.217756668</td>\n",
       "      <td>22.883935</td>\n",
       "    </tr>\n",
       "    <tr>\n",
       "      <th>Remolque</th>\n",
       "      <td>62 days 13:03:06.976744186</td>\n",
       "      <td>62.543819</td>\n",
       "    </tr>\n",
       "    <tr>\n",
       "      <th>Vehículo pesado</th>\n",
       "      <td>24 days 09:02:32.093023255</td>\n",
       "      <td>24.376759</td>\n",
       "    </tr>\n",
       "  </tbody>\n",
       "</table>\n",
       "</div>"
      ],
      "text/plain": [
       "                   Tiempo medio en deposito  Tiempo medio en deposito (float)\n",
       "tipoVehiculo                                                                 \n",
       "Bicicletas      127 days 06:37:01.208053692                        127.275706\n",
       "Camión           41 days 16:54:14.488391439                         41.704329\n",
       "Coche            27 days 02:15:50.025927042                         27.094329\n",
       "Motocarro        26 days 17:06:51.864406779                         26.713090\n",
       "Motocicleta      45 days 09:37:45.642012813                         45.401215\n",
       "Patinetes (VMP)  22 days 21:12:52.217756668                         22.883935\n",
       "Remolque         62 days 13:03:06.976744186                         62.543819\n",
       "Vehículo pesado  24 days 09:02:32.093023255                         24.376759"
      ]
     },
     "execution_count": 8,
     "metadata": {},
     "output_type": "execute_result"
    }
   ],
   "source": [
    "df_media_tiempo['Tiempo medio en deposito (float)'] = df_media_tiempo['Tiempo medio en deposito'].dt.days + df_media_tiempo['Tiempo medio en deposito'].dt.seconds / (24 * 3600)\n",
    "df_media_tiempo"
   ]
  },
  {
   "cell_type": "markdown",
   "metadata": {},
   "source": [
    ">Necesitamos una columna en formato float, el tipo delta da problemas al hacer la figura."
   ]
  },
  {
   "cell_type": "code",
   "execution_count": 9,
   "metadata": {},
   "outputs": [
    {
     "name": "stdout",
     "output_type": "stream",
     "text": [
      "<class 'pandas.core.frame.DataFrame'>\n",
      "Index: 8 entries, Bicicletas to Vehículo pesado\n",
      "Data columns (total 2 columns):\n",
      " #   Column                            Non-Null Count  Dtype          \n",
      "---  ------                            --------------  -----          \n",
      " 0   Tiempo medio en deposito          8 non-null      timedelta64[ns]\n",
      " 1   Tiempo medio en deposito (float)  8 non-null      float64        \n",
      "dtypes: float64(1), timedelta64[ns](1)\n",
      "memory usage: 192.0+ bytes\n"
     ]
    }
   ],
   "source": [
    "df_media_tiempo.info()"
   ]
  },
  {
   "cell_type": "code",
   "execution_count": 10,
   "metadata": {},
   "outputs": [
    {
     "data": {
      "text/plain": [
       "30.376400462962962"
      ]
     },
     "execution_count": 10,
     "metadata": {},
     "output_type": "execute_result"
    }
   ],
   "source": [
    "linea_media_tiempo = media_tiempo.days + media_tiempo.seconds / (24 * 3600)\n",
    "\n",
    "linea_media_tiempo"
   ]
  },
  {
   "cell_type": "code",
   "execution_count": 11,
   "metadata": {},
   "outputs": [
    {
     "data": {
      "image/png": "[encoded data removed]",
      "text/plain": [
       "<Figure size 1000x600 with 1 Axes>"
      ]
     },
     "metadata": {},
     "output_type": "display_data"
    }
   ],
   "source": [
    "plt.figure(figsize=(10, 6))\n",
    "ax = sns.barplot(x=df_media_tiempo.index, y='Tiempo medio en deposito (float)', hue=df_media_tiempo.index, data=df_media_tiempo, palette='viridis', dodge=False)\n",
    "\n",
    "plt.xlabel('Tipo de vehículo', labelpad=15, fontweight='bold')\n",
    "plt.ylabel('Tiempo medio en el depósito (días)', labelpad=15, fontweight='bold')\n",
    "plt.title('Tiempo medio en depósito por tipo de vehículo', fontweight='bold', pad=30)\n",
    "\n",
    "plt.xticks(rotation=45, ha='right')\n",
    "\n",
    "# Añadir etiquetas a las barras\n",
    "for p in ax.patches:\n",
    "    ax.annotate(format(p.get_height(), '.2f'), \n",
    "                   (p.get_x() + p.get_width() / 2., p.get_height()), \n",
    "                   ha = 'center', va = 'center', \n",
    "                   xytext = (0, 10), \n",
    "                   textcoords = 'offset points') \n",
    "\n",
    "plt.text(df_media_tiempo.index.get_loc('Bicicletas') + 0.7, 23.8, 'Media 30.376 días.', ha='center', va='bottom', color='black', fontweight='bold', bbox=dict(facecolor='white', alpha=0.5))\n",
    "plt.axhline(y=linea_media_tiempo, color='r', linestyle='--', label='Media')\n",
    "plt.tight_layout()\n",
    "sns.despine()\n",
    "plt.savefig(\"figura_salida/tiempoEnDeposito.png\")\n",
    "plt.show()"
   ]
  },
  {
   "cell_type": "markdown",
   "metadata": {},
   "source": [
    "Viendo la gráfica se demuestra que mi idea era errónea. Pensé que los camiones y vehículos pesados pasarían menos tiempo en el depósito que los coches. La diferencia entre los tipos de vehículos y la naturaleza de los datos hace adecuado realizar un estudio ANOVA."
   ]
  },
  {
   "cell_type": "markdown",
   "metadata": {},
   "source": [
    ">Prepararemos un dataframe solo con las columnas que nos interesan, para realizar el ANOVA con facilidad"
   ]
  },
  {
   "cell_type": "code",
   "execution_count": 12,
   "metadata": {},
   "outputs": [
    {
     "data": {
      "text/html": [
       "<div>\n",
       "<style scoped>\n",
       "    .dataframe tbody tr th:only-of-type {\n",
       "        vertical-align: middle;\n",
       "    }\n",
       "\n",
       "    .dataframe tbody tr th {\n",
       "        vertical-align: top;\n",
       "    }\n",
       "\n",
       "    .dataframe thead th {\n",
       "        text-align: right;\n",
       "    }\n",
       "</style>\n",
       "<table border=\"1\" class=\"dataframe\">\n",
       "  <thead>\n",
       "    <tr style=\"text-align: right;\">\n",
       "      <th></th>\n",
       "      <th>tipoVehiculo</th>\n",
       "      <th>motivo</th>\n",
       "      <th>turno</th>\n",
       "      <th>grua</th>\n",
       "      <th>tipoVia</th>\n",
       "      <th>via</th>\n",
       "      <th>numero</th>\n",
       "      <th>cp</th>\n",
       "      <th>depositoEntrada</th>\n",
       "      <th>fechaEntrada</th>\n",
       "      <th>depositoSalida</th>\n",
       "      <th>fechaSalida</th>\n",
       "      <th>TiempoEnDeposito (dias)</th>\n",
       "    </tr>\n",
       "    <tr>\n",
       "      <th>idVehiculo</th>\n",
       "      <th></th>\n",
       "      <th></th>\n",
       "      <th></th>\n",
       "      <th></th>\n",
       "      <th></th>\n",
       "      <th></th>\n",
       "      <th></th>\n",
       "      <th></th>\n",
       "      <th></th>\n",
       "      <th></th>\n",
       "      <th></th>\n",
       "      <th></th>\n",
       "      <th></th>\n",
       "    </tr>\n",
       "  </thead>\n",
       "  <tbody>\n",
       "    <tr>\n",
       "      <th>321</th>\n",
       "      <td>Camión</td>\n",
       "      <td>Precinto</td>\n",
       "      <td>Mañana</td>\n",
       "      <td>None</td>\n",
       "      <td>CALLE</td>\n",
       "      <td>SIN DETERMINAR</td>\n",
       "      <td>0</td>\n",
       "      <td>28001</td>\n",
       "      <td>Mediodía 2</td>\n",
       "      <td>1995-11-29</td>\n",
       "      <td>Mediodía 2</td>\n",
       "      <td>2016-07-26 09:59:00</td>\n",
       "      <td>7545 days 09:59:00</td>\n",
       "    </tr>\n",
       "    <tr>\n",
       "      <th>528</th>\n",
       "      <td>Coche</td>\n",
       "      <td>Precinto</td>\n",
       "      <td>Mañana</td>\n",
       "      <td>None</td>\n",
       "      <td>CALLE</td>\n",
       "      <td>SIN DETERMINAR</td>\n",
       "      <td>0</td>\n",
       "      <td>28001</td>\n",
       "      <td>Mediodía 2</td>\n",
       "      <td>1996-05-08</td>\n",
       "      <td>Mediodía 2</td>\n",
       "      <td>2016-05-18 17:11:00</td>\n",
       "      <td>7315 days 17:11:00</td>\n",
       "    </tr>\n",
       "    <tr>\n",
       "      <th>592</th>\n",
       "      <td>Coche</td>\n",
       "      <td>Precinto</td>\n",
       "      <td>Mañana</td>\n",
       "      <td>None</td>\n",
       "      <td>CALLE</td>\n",
       "      <td>SIN DETERMINAR</td>\n",
       "      <td>0</td>\n",
       "      <td>28001</td>\n",
       "      <td>Mediodía 2</td>\n",
       "      <td>1996-05-14</td>\n",
       "      <td>Mediodía 2</td>\n",
       "      <td>2016-11-25 14:21:00</td>\n",
       "      <td>7500 days 14:21:00</td>\n",
       "    </tr>\n",
       "    <tr>\n",
       "      <th>162</th>\n",
       "      <td>Coche</td>\n",
       "      <td>Precinto</td>\n",
       "      <td>Mañana</td>\n",
       "      <td>None</td>\n",
       "      <td>CALLE</td>\n",
       "      <td>SIN DETERMINAR</td>\n",
       "      <td>0</td>\n",
       "      <td>28001</td>\n",
       "      <td>Mediodía 2</td>\n",
       "      <td>1997-02-27</td>\n",
       "      <td>Mediodía 2</td>\n",
       "      <td>2016-06-29 18:55:00</td>\n",
       "      <td>7062 days 18:55:00</td>\n",
       "    </tr>\n",
       "    <tr>\n",
       "      <th>217</th>\n",
       "      <td>Coche</td>\n",
       "      <td>Precinto</td>\n",
       "      <td>Mañana</td>\n",
       "      <td>None</td>\n",
       "      <td>CALLE</td>\n",
       "      <td>SIN DETERMINAR</td>\n",
       "      <td>0</td>\n",
       "      <td>28001</td>\n",
       "      <td>Mediodía 2</td>\n",
       "      <td>1997-04-30</td>\n",
       "      <td>Vicálvaro</td>\n",
       "      <td>2016-08-08 12:58:00</td>\n",
       "      <td>7040 days 12:58:00</td>\n",
       "    </tr>\n",
       "  </tbody>\n",
       "</table>\n",
       "</div>"
      ],
      "text/plain": [
       "           tipoVehiculo    motivo   turno  grua tipoVia             via  \\\n",
       "idVehiculo                                                                \n",
       "321              Camión  Precinto  Mañana  None   CALLE  SIN DETERMINAR   \n",
       "528               Coche  Precinto  Mañana  None   CALLE  SIN DETERMINAR   \n",
       "592               Coche  Precinto  Mañana  None   CALLE  SIN DETERMINAR   \n",
       "162               Coche  Precinto  Mañana  None   CALLE  SIN DETERMINAR   \n",
       "217               Coche  Precinto  Mañana  None   CALLE  SIN DETERMINAR   \n",
       "\n",
       "           numero     cp depositoEntrada fechaEntrada depositoSalida  \\\n",
       "idVehiculo                                                             \n",
       "321             0  28001      Mediodía 2   1995-11-29     Mediodía 2   \n",
       "528             0  28001      Mediodía 2   1996-05-08     Mediodía 2   \n",
       "592             0  28001      Mediodía 2   1996-05-14     Mediodía 2   \n",
       "162             0  28001      Mediodía 2   1997-02-27     Mediodía 2   \n",
       "217             0  28001      Mediodía 2   1997-04-30      Vicálvaro   \n",
       "\n",
       "                   fechaSalida TiempoEnDeposito (dias)  \n",
       "idVehiculo                                              \n",
       "321        2016-07-26 09:59:00      7545 days 09:59:00  \n",
       "528        2016-05-18 17:11:00      7315 days 17:11:00  \n",
       "592        2016-11-25 14:21:00      7500 days 14:21:00  \n",
       "162        2016-06-29 18:55:00      7062 days 18:55:00  \n",
       "217        2016-08-08 12:58:00      7040 days 12:58:00  "
      ]
     },
     "execution_count": 12,
     "metadata": {},
     "output_type": "execute_result"
    }
   ],
   "source": [
    "df_salidas_todo_copia.head()"
   ]
  },
  {
   "cell_type": "code",
   "execution_count": 21,
   "metadata": {},
   "outputs": [
    {
     "name": "stderr",
     "output_type": "stream",
     "text": [
      "C:\\Users\\pepea\\AppData\\Local\\Temp\\ipykernel_3400\\2905714637.py:2: SettingWithCopyWarning: \n",
      "A value is trying to be set on a copy of a slice from a DataFrame.\n",
      "Try using .loc[row_indexer,col_indexer] = value instead\n",
      "\n",
      "See the caveats in the documentation: https://pandas.pydata.org/pandas-docs/stable/user_guide/indexing.html#returning-a-view-versus-a-copy\n",
      "  df_anova['Tiempo en deposito (float)'] = df_anova['TiempoEnDeposito (dias)'].dt.days + df_anova['TiempoEnDeposito (dias)'].dt.seconds / (24 * 3600)\n"
     ]
    }
   ],
   "source": [
    "df_anova = df_salidas_todo_copia[[\"tipoVehiculo\", \"TiempoEnDeposito (dias)\"]]\n",
    "df_anova['Tiempo en deposito (float)'] = df_anova['TiempoEnDeposito (dias)'].dt.days + df_anova['TiempoEnDeposito (dias)'].dt.seconds / (24 * 3600) \n"
   ]
  },
  {
   "cell_type": "code",
   "execution_count": 24,
   "metadata": {},
   "outputs": [
    {
     "data": {
      "text/html": [
       "<div>\n",
       "<style scoped>\n",
       "    .dataframe tbody tr th:only-of-type {\n",
       "        vertical-align: middle;\n",
       "    }\n",
       "\n",
       "    .dataframe tbody tr th {\n",
       "        vertical-align: top;\n",
       "    }\n",
       "\n",
       "    .dataframe thead th {\n",
       "        text-align: right;\n",
       "    }\n",
       "</style>\n",
       "<table border=\"1\" class=\"dataframe\">\n",
       "  <thead>\n",
       "    <tr style=\"text-align: right;\">\n",
       "      <th></th>\n",
       "      <th>tipoVehiculo</th>\n",
       "      <th>TiempoEnDeposito (dias)</th>\n",
       "      <th>Tiempo en deposito (float)</th>\n",
       "    </tr>\n",
       "    <tr>\n",
       "      <th>idVehiculo</th>\n",
       "      <th></th>\n",
       "      <th></th>\n",
       "      <th></th>\n",
       "    </tr>\n",
       "  </thead>\n",
       "  <tbody>\n",
       "    <tr>\n",
       "      <th>321</th>\n",
       "      <td>Camión</td>\n",
       "      <td>7545 days 09:59:00</td>\n",
       "      <td>7545.415972</td>\n",
       "    </tr>\n",
       "    <tr>\n",
       "      <th>528</th>\n",
       "      <td>Coche</td>\n",
       "      <td>7315 days 17:11:00</td>\n",
       "      <td>7315.715972</td>\n",
       "    </tr>\n",
       "    <tr>\n",
       "      <th>592</th>\n",
       "      <td>Coche</td>\n",
       "      <td>7500 days 14:21:00</td>\n",
       "      <td>7500.597917</td>\n",
       "    </tr>\n",
       "  </tbody>\n",
       "</table>\n",
       "</div>"
      ],
      "text/plain": [
       "           tipoVehiculo TiempoEnDeposito (dias)  Tiempo en deposito (float)\n",
       "idVehiculo                                                                 \n",
       "321              Camión      7545 days 09:59:00                 7545.415972\n",
       "528               Coche      7315 days 17:11:00                 7315.715972\n",
       "592               Coche      7500 days 14:21:00                 7500.597917"
      ]
     },
     "execution_count": 24,
     "metadata": {},
     "output_type": "execute_result"
    }
   ],
   "source": [
    "df_anova.head(3)"
   ]
  },
  {
   "cell_type": "markdown",
   "metadata": {},
   "source": [
    "## ANOVA"
   ]
  },
  {
   "cell_type": "code",
   "execution_count": 33,
   "metadata": {},
   "outputs": [
    {
     "name": "stdout",
     "output_type": "stream",
     "text": [
      "El valor de p es muy pequeño ( 1.3451510895785672e-139 ), lo que sugiere una alta significancia\n",
      "estadística y el rechazo de la hipótesis nula. Además, la estadística F ( 95.26872197948502 ) es\n",
      "sustancialmente mayor que 1, indicando una diferencia significativa en los tiempos de permanencia entre\n",
      "al menos dos tipos de vehículos en el depósito.\n"
     ]
    }
   ],
   "source": [
    "anova_result = f_oneway(\n",
    "    df_anova[df_anova['tipoVehiculo'] == 'Bicicletas']['Tiempo en deposito (float)'],\n",
    "    df_anova[df_anova['tipoVehiculo'] == 'Camión']['Tiempo en deposito (float)'],\n",
    "    df_anova[df_anova['tipoVehiculo'] == 'Coche']['Tiempo en deposito (float)'],\n",
    "    df_anova[df_anova['tipoVehiculo'] == 'Motocarro']['Tiempo en deposito (float)'],\n",
    "    df_anova[df_anova['tipoVehiculo'] == 'Motocicleta']['Tiempo en deposito (float)'],\n",
    "    df_anova[df_anova['tipoVehiculo'] == 'Patinetes (VMP)']['Tiempo en deposito (float)'],\n",
    "    df_anova[df_anova['tipoVehiculo'] == 'Remolque']['Tiempo en deposito (float)'],\n",
    "    df_anova[df_anova['tipoVehiculo'] == 'Vehículo pesado']['Tiempo en deposito (float)']\n",
    ")\n",
    "\n",
    "\n",
    "print(\"El valor de p es muy pequeño (\",anova_result.pvalue,\"), lo que sugiere una alta significancia\")\n",
    "print(\"estadística y el rechazo de la hipótesis nula. Además, la estadística F (\",anova_result.statistic,\") es\")\n",
    "print(\"sustancialmente mayor que 1, indicando una diferencia significativa en los tiempos de permanencia entre\")\n",
    "print(\"al menos dos tipos de vehículos en el depósito.\")\n"
   ]
  },
  {
   "cell_type": "markdown",
   "metadata": {},
   "source": [
    "Después de realizar la prueba de Análisis de Varianza (ANOVA) y encontrar una relación  \n",
    "significativa entre los grupos, realizaremos la prueba de Tukey como análisis post hoc. El término  \n",
    "'post hoc' significa 'después de esto' y se refiere a las pruebas o análisis realizados después de la  \n",
    "prueba de hipótesis inicial para investigar y comprender mejor las diferencias específicas entre los grupos."
   ]
  }
 ],
 "metadata": {
  "kernelspec": {
   "display_name": "Python 3",
   "language": "python",
   "name": "python3"
  },
  "language_info": {
   "codemirror_mode": {
    "name": "ipython",
    "version": 3
   },
   "file_extension": ".py",
   "mimetype": "text/x-python",
   "name": "python",
   "nbconvert_exporter": "python",
   "pygments_lexer": "ipython3",
   "version": "3.12.3"
  }
 },
 "nbformat": 4,
 "nbformat_minor": 2
}
